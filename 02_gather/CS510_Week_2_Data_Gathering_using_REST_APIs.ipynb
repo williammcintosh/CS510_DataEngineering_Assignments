{
  "nbformat": 4,
  "nbformat_minor": 0,
  "metadata": {
    "colab": {
      "provenance": [],
      "toc_visible": true,
      "authorship_tag": "ABX9TyMxDbEoGTVdPlZ5t9IE04e8",
      "include_colab_link": true
    },
    "kernelspec": {
      "name": "python3",
      "display_name": "Python 3"
    },
    "language_info": {
      "name": "python"
    }
  },
  "cells": [
    {
      "cell_type": "markdown",
      "metadata": {
        "id": "view-in-github",
        "colab_type": "text"
      },
      "source": [
        "<a href=\"https://colab.research.google.com/github/williammcintosh/CS510_DataEngineering_Assignments/blob/main/02_gather/CS510_Week_2_Data_Gathering_using_REST_APIs.ipynb\" target=\"_parent\"><img src=\"https://colab.research.google.com/assets/colab-badge.svg\" alt=\"Open In Colab\"/></a>"
      ]
    },
    {
      "cell_type": "markdown",
      "source": [
        "# Title\n",
        "\n",
        "* CS520 Data Gathering Using REST API\n",
        "* Will McIntosh"
      ],
      "metadata": {
        "id": "UZYGPlt3AH3A"
      }
    },
    {
      "cell_type": "markdown",
      "source": [
        "# Goals"
      ],
      "metadata": {
        "id": "TPEbqWE8tFnV"
      }
    },
    {
      "cell_type": "markdown",
      "source": [
        "1. Learn about REST APIs\n",
        "2. Apply your knowledge to develop a simple weather application"
      ],
      "metadata": {
        "id": "n9YIaoMutHeJ"
      }
    },
    {
      "cell_type": "markdown",
      "source": [
        "## Questions"
      ],
      "metadata": {
        "id": "rqJBvx8Jj0Lu"
      }
    },
    {
      "cell_type": "markdown",
      "source": [
        "Then develop a simple Python program that answers these questions:\n",
        "\n",
        "* “Is it raining in Portland, OR?”\n",
        "* “Will it be raining when our class next meets?”\n"
      ],
      "metadata": {
        "id": "6xdbCgqYw9gD"
      }
    },
    {
      "cell_type": "markdown",
      "source": [
        "## Import Libraries"
      ],
      "metadata": {
        "id": "2KZV2llQj1WW"
      }
    },
    {
      "cell_type": "code",
      "execution_count": 1,
      "metadata": {
        "id": "5cP_guW1wtWH"
      },
      "outputs": [],
      "source": [
        "# import required modules\n",
        "import requests, json\n",
        "import datetime\n",
        "import seaborn as sns\n",
        "import pandas as pd\n",
        "pd.set_option(\"display.max_columns\", None)"
      ]
    },
    {
      "cell_type": "markdown",
      "source": [
        "## Get API Key\n",
        "\n",
        "We get the API key in a safe way by mounting Google Drive and then pulling the api key from a save folder."
      ],
      "metadata": {
        "id": "lG0RA8tRzCXl"
      }
    },
    {
      "cell_type": "code",
      "source": [
        "from google.colab import drive\n",
        "drive.mount('/content/drive')"
      ],
      "metadata": {
        "colab": {
          "base_uri": "https://localhost:8080/"
        },
        "id": "Q69YY4DHzJXz",
        "outputId": "a41e1563-b956-4af5-a13f-a50e5826a02f"
      },
      "execution_count": 2,
      "outputs": [
        {
          "output_type": "stream",
          "name": "stdout",
          "text": [
            "Mounted at /content/drive\n"
          ]
        }
      ]
    },
    {
      "cell_type": "code",
      "source": [
        "with open('/content/drive/MyDrive/CS510 - Data Engineering/API Keys/weather_api_key.txt', 'r') as file:\n",
        "    WEATHER_API_KEY = file.read().strip()"
      ],
      "metadata": {
        "id": "bcRSdSorzNlj"
      },
      "execution_count": 3,
      "outputs": []
    },
    {
      "cell_type": "markdown",
      "source": [
        "## Helper Functions"
      ],
      "metadata": {
        "id": "-R4s-qNfj3Su"
      }
    },
    {
      "cell_type": "code",
      "source": [
        "def ConvertJSONtoDataFrame(x):\n",
        "  new_dict = {}\n",
        "  for key, value in x.items():\n",
        "      if isinstance(value, list):\n",
        "          new_dict.update({f'{key}_{i}': v for i, v in enumerate(value)})\n",
        "      elif isinstance(value, dict):\n",
        "          new_dict.update({f'{key}_{k}': v for k, v in value.items()})\n",
        "      else:\n",
        "          new_dict.update({key: value})\n",
        "  df = pd.DataFrame.from_dict(new_dict, orient='index').transpose()\n",
        "  return df\n",
        "\n",
        "\n",
        "def GetWeatherDataFrame(city_name, call_type=\"weather\"):\n",
        "  base_url = f\"http://api.openweathermap.org/data/2.5/{call_type}?\"\n",
        "  complete_url = base_url + \"appid=\" + WEATHER_API_KEY + \"&q=\" + city_name\n",
        "  response = requests.get(complete_url)\n",
        "  x = response.json()\n",
        "\n",
        "  if call_type==\"weather\":\n",
        "    return ConvertJSONtoDataFrame(x)\n",
        "\n",
        "  forecasts = []\n",
        "  for i in x['list']:\n",
        "    forecasts.append(ConvertJSONtoDataFrame(i))\n",
        "\n",
        "  fdf = pd.concat(forecasts).reset_index(drop=True)\n",
        "\n",
        "  # Convert the 'dt_txt' column to datetime data type\n",
        "  fdf['dt_txt'] = pd.to_datetime(fdf['dt_txt'])\n",
        "\n",
        "  # Extract the date from the datetime object and create a new column 'date'\n",
        "  fdf['date'] = fdf['dt_txt'].dt.date\n",
        "  fdf['hour_of_day'] = fdf['dt_txt'].dt.hour.astype(int)\n",
        "  fdf = fdf.rename({'rain_3h':'rain_inches'}, axis=1)\n",
        "\n",
        "  return fdf"
      ],
      "metadata": {
        "id": "15Gt2OXs7ZUw"
      },
      "execution_count": 4,
      "outputs": []
    },
    {
      "cell_type": "code",
      "source": [
        "def plot_rain(next_class):\n",
        "  rain = forecasts[forecasts['date'] == next_class].fillna(0)\n",
        "  title = f\"It's raining on {next_class}!\" if any(x > 0.0 for x in rain['rain_inches']) else f\"It's not raining on {next_class}!\"\n",
        "  ax = sns.lineplot(data=rain, y=\"rain_inches\", x=\"hour_of_day\")\n",
        "  ax.set_title(title)\n",
        "  ax.plot()"
      ],
      "metadata": {
        "id": "mwv1m7zHvxu9"
      },
      "execution_count": 5,
      "outputs": []
    },
    {
      "cell_type": "markdown",
      "source": [
        "# Build Dataframes"
      ],
      "metadata": {
        "id": "CkoRrpmhj5ju"
      }
    },
    {
      "cell_type": "markdown",
      "source": [
        "## Question 1\n",
        "\n",
        "Is it raining in Portland?"
      ],
      "metadata": {
        "id": "5E10qwk2pE3C"
      }
    },
    {
      "cell_type": "code",
      "source": [
        "today = GetWeatherDataFrame(\"portland\", call_type=\"weather\")\n",
        "today"
      ],
      "metadata": {
        "colab": {
          "base_uri": "https://localhost:8080/",
          "height": 170
        },
        "id": "JTHAliHn4svu",
        "outputId": "d8abee95-b6a1-499b-e19b-7188b9f3c1fb"
      },
      "execution_count": 6,
      "outputs": [
        {
          "output_type": "execute_result",
          "data": {
            "text/plain": [
              "  coord_lon coord_lat                                          weather_0  \\\n",
              "0 -122.6762   45.5234  {'id': 804, 'main': 'Clouds', 'description': '...   \n",
              "\n",
              "       base main_temp main_feels_like main_temp_min main_temp_max  \\\n",
              "0  stations    285.29          284.44        283.84        286.47   \n",
              "\n",
              "  main_pressure main_humidity visibility wind_speed wind_deg clouds_all  \\\n",
              "0          1023            72      10000       4.63      170        100   \n",
              "\n",
              "           dt sys_type   sys_id sys_country sys_sunrise  sys_sunset timezone  \\\n",
              "0  1712614797        2  2008548          US  1712583391  1712630867   -25200   \n",
              "\n",
              "        id      name  cod  \n",
              "0  5746545  Portland  200  "
            ],
            "text/html": [
              "\n",
              "  <div id=\"df-b46d790d-e10d-464c-ad06-41613ad5a53c\" class=\"colab-df-container\">\n",
              "    <div>\n",
              "<style scoped>\n",
              "    .dataframe tbody tr th:only-of-type {\n",
              "        vertical-align: middle;\n",
              "    }\n",
              "\n",
              "    .dataframe tbody tr th {\n",
              "        vertical-align: top;\n",
              "    }\n",
              "\n",
              "    .dataframe thead th {\n",
              "        text-align: right;\n",
              "    }\n",
              "</style>\n",
              "<table border=\"1\" class=\"dataframe\">\n",
              "  <thead>\n",
              "    <tr style=\"text-align: right;\">\n",
              "      <th></th>\n",
              "      <th>coord_lon</th>\n",
              "      <th>coord_lat</th>\n",
              "      <th>weather_0</th>\n",
              "      <th>base</th>\n",
              "      <th>main_temp</th>\n",
              "      <th>main_feels_like</th>\n",
              "      <th>main_temp_min</th>\n",
              "      <th>main_temp_max</th>\n",
              "      <th>main_pressure</th>\n",
              "      <th>main_humidity</th>\n",
              "      <th>visibility</th>\n",
              "      <th>wind_speed</th>\n",
              "      <th>wind_deg</th>\n",
              "      <th>clouds_all</th>\n",
              "      <th>dt</th>\n",
              "      <th>sys_type</th>\n",
              "      <th>sys_id</th>\n",
              "      <th>sys_country</th>\n",
              "      <th>sys_sunrise</th>\n",
              "      <th>sys_sunset</th>\n",
              "      <th>timezone</th>\n",
              "      <th>id</th>\n",
              "      <th>name</th>\n",
              "      <th>cod</th>\n",
              "    </tr>\n",
              "  </thead>\n",
              "  <tbody>\n",
              "    <tr>\n",
              "      <th>0</th>\n",
              "      <td>-122.6762</td>\n",
              "      <td>45.5234</td>\n",
              "      <td>{'id': 804, 'main': 'Clouds', 'description': '...</td>\n",
              "      <td>stations</td>\n",
              "      <td>285.29</td>\n",
              "      <td>284.44</td>\n",
              "      <td>283.84</td>\n",
              "      <td>286.47</td>\n",
              "      <td>1023</td>\n",
              "      <td>72</td>\n",
              "      <td>10000</td>\n",
              "      <td>4.63</td>\n",
              "      <td>170</td>\n",
              "      <td>100</td>\n",
              "      <td>1712614797</td>\n",
              "      <td>2</td>\n",
              "      <td>2008548</td>\n",
              "      <td>US</td>\n",
              "      <td>1712583391</td>\n",
              "      <td>1712630867</td>\n",
              "      <td>-25200</td>\n",
              "      <td>5746545</td>\n",
              "      <td>Portland</td>\n",
              "      <td>200</td>\n",
              "    </tr>\n",
              "  </tbody>\n",
              "</table>\n",
              "</div>\n",
              "    <div class=\"colab-df-buttons\">\n",
              "\n",
              "  <div class=\"colab-df-container\">\n",
              "    <button class=\"colab-df-convert\" onclick=\"convertToInteractive('df-b46d790d-e10d-464c-ad06-41613ad5a53c')\"\n",
              "            title=\"Convert this dataframe to an interactive table.\"\n",
              "            style=\"display:none;\">\n",
              "\n",
              "  <svg xmlns=\"http://www.w3.org/2000/svg\" height=\"24px\" viewBox=\"0 -960 960 960\">\n",
              "    <path d=\"M120-120v-720h720v720H120Zm60-500h600v-160H180v160Zm220 220h160v-160H400v160Zm0 220h160v-160H400v160ZM180-400h160v-160H180v160Zm440 0h160v-160H620v160ZM180-180h160v-160H180v160Zm440 0h160v-160H620v160Z\"/>\n",
              "  </svg>\n",
              "    </button>\n",
              "\n",
              "  <style>\n",
              "    .colab-df-container {\n",
              "      display:flex;\n",
              "      gap: 12px;\n",
              "    }\n",
              "\n",
              "    .colab-df-convert {\n",
              "      background-color: #E8F0FE;\n",
              "      border: none;\n",
              "      border-radius: 50%;\n",
              "      cursor: pointer;\n",
              "      display: none;\n",
              "      fill: #1967D2;\n",
              "      height: 32px;\n",
              "      padding: 0 0 0 0;\n",
              "      width: 32px;\n",
              "    }\n",
              "\n",
              "    .colab-df-convert:hover {\n",
              "      background-color: #E2EBFA;\n",
              "      box-shadow: 0px 1px 2px rgba(60, 64, 67, 0.3), 0px 1px 3px 1px rgba(60, 64, 67, 0.15);\n",
              "      fill: #174EA6;\n",
              "    }\n",
              "\n",
              "    .colab-df-buttons div {\n",
              "      margin-bottom: 4px;\n",
              "    }\n",
              "\n",
              "    [theme=dark] .colab-df-convert {\n",
              "      background-color: #3B4455;\n",
              "      fill: #D2E3FC;\n",
              "    }\n",
              "\n",
              "    [theme=dark] .colab-df-convert:hover {\n",
              "      background-color: #434B5C;\n",
              "      box-shadow: 0px 1px 3px 1px rgba(0, 0, 0, 0.15);\n",
              "      filter: drop-shadow(0px 1px 2px rgba(0, 0, 0, 0.3));\n",
              "      fill: #FFFFFF;\n",
              "    }\n",
              "  </style>\n",
              "\n",
              "    <script>\n",
              "      const buttonEl =\n",
              "        document.querySelector('#df-b46d790d-e10d-464c-ad06-41613ad5a53c button.colab-df-convert');\n",
              "      buttonEl.style.display =\n",
              "        google.colab.kernel.accessAllowed ? 'block' : 'none';\n",
              "\n",
              "      async function convertToInteractive(key) {\n",
              "        const element = document.querySelector('#df-b46d790d-e10d-464c-ad06-41613ad5a53c');\n",
              "        const dataTable =\n",
              "          await google.colab.kernel.invokeFunction('convertToInteractive',\n",
              "                                                    [key], {});\n",
              "        if (!dataTable) return;\n",
              "\n",
              "        const docLinkHtml = 'Like what you see? Visit the ' +\n",
              "          '<a target=\"_blank\" href=https://colab.research.google.com/notebooks/data_table.ipynb>data table notebook</a>'\n",
              "          + ' to learn more about interactive tables.';\n",
              "        element.innerHTML = '';\n",
              "        dataTable['output_type'] = 'display_data';\n",
              "        await google.colab.output.renderOutput(dataTable, element);\n",
              "        const docLink = document.createElement('div');\n",
              "        docLink.innerHTML = docLinkHtml;\n",
              "        element.appendChild(docLink);\n",
              "      }\n",
              "    </script>\n",
              "  </div>\n",
              "\n",
              "    </div>\n",
              "  </div>\n"
            ],
            "application/vnd.google.colaboratory.intrinsic+json": {
              "type": "dataframe",
              "variable_name": "today"
            }
          },
          "metadata": {},
          "execution_count": 6
        }
      ]
    },
    {
      "cell_type": "code",
      "source": [
        "today.iloc[0]['weather_0']"
      ],
      "metadata": {
        "colab": {
          "base_uri": "https://localhost:8080/"
        },
        "id": "ZIE_wcT23h27",
        "outputId": "434b62af-1f10-4684-9a4f-814bca6624db"
      },
      "execution_count": 12,
      "outputs": [
        {
          "output_type": "execute_result",
          "data": {
            "text/plain": [
              "{'id': 804, 'main': 'Clouds', 'description': 'overcast clouds', 'icon': '04d'}"
            ]
          },
          "metadata": {},
          "execution_count": 12
        }
      ]
    },
    {
      "cell_type": "code",
      "source": [
        "print(\"It's raining today!\" if today.iloc[0]['weather_0']['main'] == 'Rain' else \"It's not raining today!\")"
      ],
      "metadata": {
        "colab": {
          "base_uri": "https://localhost:8080/"
        },
        "id": "84SjiL7sp8X_",
        "outputId": "9caae6e4-7c46-440d-9c0c-10e5037fce09"
      },
      "execution_count": 7,
      "outputs": [
        {
          "output_type": "stream",
          "name": "stdout",
          "text": [
            "It's not raining today!\n"
          ]
        }
      ]
    },
    {
      "cell_type": "markdown",
      "source": [
        "## Question 2\n",
        "\n",
        "Will it rain when we meet next class date?"
      ],
      "metadata": {
        "id": "im8HXPHbp2jI"
      }
    },
    {
      "cell_type": "code",
      "source": [
        "forecasts = GetWeatherDataFrame(\"portland\", call_type=\"forecast\")\n",
        "forecasts.head()"
      ],
      "metadata": {
        "colab": {
          "base_uri": "https://localhost:8080/",
          "height": 573
        },
        "id": "h_06YKkp5Kzw",
        "outputId": "622b577f-bf8d-40ad-e9da-188826274e5c"
      },
      "execution_count": 8,
      "outputs": [
        {
          "output_type": "execute_result",
          "data": {
            "text/plain": [
              "           dt main_temp main_feels_like main_temp_min main_temp_max  \\\n",
              "0  1712620800    284.39          283.53        282.56        284.39   \n",
              "1  1712631600    283.52          282.65        282.63        283.52   \n",
              "2  1712642400    282.59          281.14        282.59        282.59   \n",
              "3  1712653200    282.71          281.16        282.71        282.71   \n",
              "4  1712664000    282.28          281.01        282.28        282.28   \n",
              "\n",
              "  main_pressure main_sea_level main_grnd_level main_humidity main_temp_kf  \\\n",
              "0          1023           1023            1012            75         1.83   \n",
              "1          1023           1023            1012            78         0.89   \n",
              "2          1023           1023            1012            81            0   \n",
              "3          1022           1022            1012            85            0   \n",
              "4          1023           1023            1012            94            0   \n",
              "\n",
              "                                           weather_0 clouds_all wind_speed  \\\n",
              "0  {'id': 804, 'main': 'Clouds', 'description': '...        100       2.04   \n",
              "1  {'id': 804, 'main': 'Clouds', 'description': '...        100       2.49   \n",
              "2  {'id': 804, 'main': 'Clouds', 'description': '...        100       2.76   \n",
              "3  {'id': 804, 'main': 'Clouds', 'description': '...        100       2.96   \n",
              "4  {'id': 500, 'main': 'Rain', 'description': 'li...        100       2.41   \n",
              "\n",
              "  wind_deg wind_gust visibility   pop sys_pod              dt_txt rain_inches  \\\n",
              "0      167      6.75      10000     0       d 2024-04-09 00:00:00         NaN   \n",
              "1      189      7.93      10000     0       n 2024-04-09 03:00:00         NaN   \n",
              "2      201      8.55      10000     0       n 2024-04-09 06:00:00         NaN   \n",
              "3      208       8.8      10000     0       n 2024-04-09 09:00:00         NaN   \n",
              "4      208      7.92      10000  0.21       n 2024-04-09 12:00:00        0.23   \n",
              "\n",
              "         date  hour_of_day  \n",
              "0  2024-04-09            0  \n",
              "1  2024-04-09            3  \n",
              "2  2024-04-09            6  \n",
              "3  2024-04-09            9  \n",
              "4  2024-04-09           12  "
            ],
            "text/html": [
              "\n",
              "  <div id=\"df-2938b115-7d8b-480a-8928-8ac0cdeec22c\" class=\"colab-df-container\">\n",
              "    <div>\n",
              "<style scoped>\n",
              "    .dataframe tbody tr th:only-of-type {\n",
              "        vertical-align: middle;\n",
              "    }\n",
              "\n",
              "    .dataframe tbody tr th {\n",
              "        vertical-align: top;\n",
              "    }\n",
              "\n",
              "    .dataframe thead th {\n",
              "        text-align: right;\n",
              "    }\n",
              "</style>\n",
              "<table border=\"1\" class=\"dataframe\">\n",
              "  <thead>\n",
              "    <tr style=\"text-align: right;\">\n",
              "      <th></th>\n",
              "      <th>dt</th>\n",
              "      <th>main_temp</th>\n",
              "      <th>main_feels_like</th>\n",
              "      <th>main_temp_min</th>\n",
              "      <th>main_temp_max</th>\n",
              "      <th>main_pressure</th>\n",
              "      <th>main_sea_level</th>\n",
              "      <th>main_grnd_level</th>\n",
              "      <th>main_humidity</th>\n",
              "      <th>main_temp_kf</th>\n",
              "      <th>weather_0</th>\n",
              "      <th>clouds_all</th>\n",
              "      <th>wind_speed</th>\n",
              "      <th>wind_deg</th>\n",
              "      <th>wind_gust</th>\n",
              "      <th>visibility</th>\n",
              "      <th>pop</th>\n",
              "      <th>sys_pod</th>\n",
              "      <th>dt_txt</th>\n",
              "      <th>rain_inches</th>\n",
              "      <th>date</th>\n",
              "      <th>hour_of_day</th>\n",
              "    </tr>\n",
              "  </thead>\n",
              "  <tbody>\n",
              "    <tr>\n",
              "      <th>0</th>\n",
              "      <td>1712620800</td>\n",
              "      <td>284.39</td>\n",
              "      <td>283.53</td>\n",
              "      <td>282.56</td>\n",
              "      <td>284.39</td>\n",
              "      <td>1023</td>\n",
              "      <td>1023</td>\n",
              "      <td>1012</td>\n",
              "      <td>75</td>\n",
              "      <td>1.83</td>\n",
              "      <td>{'id': 804, 'main': 'Clouds', 'description': '...</td>\n",
              "      <td>100</td>\n",
              "      <td>2.04</td>\n",
              "      <td>167</td>\n",
              "      <td>6.75</td>\n",
              "      <td>10000</td>\n",
              "      <td>0</td>\n",
              "      <td>d</td>\n",
              "      <td>2024-04-09 00:00:00</td>\n",
              "      <td>NaN</td>\n",
              "      <td>2024-04-09</td>\n",
              "      <td>0</td>\n",
              "    </tr>\n",
              "    <tr>\n",
              "      <th>1</th>\n",
              "      <td>1712631600</td>\n",
              "      <td>283.52</td>\n",
              "      <td>282.65</td>\n",
              "      <td>282.63</td>\n",
              "      <td>283.52</td>\n",
              "      <td>1023</td>\n",
              "      <td>1023</td>\n",
              "      <td>1012</td>\n",
              "      <td>78</td>\n",
              "      <td>0.89</td>\n",
              "      <td>{'id': 804, 'main': 'Clouds', 'description': '...</td>\n",
              "      <td>100</td>\n",
              "      <td>2.49</td>\n",
              "      <td>189</td>\n",
              "      <td>7.93</td>\n",
              "      <td>10000</td>\n",
              "      <td>0</td>\n",
              "      <td>n</td>\n",
              "      <td>2024-04-09 03:00:00</td>\n",
              "      <td>NaN</td>\n",
              "      <td>2024-04-09</td>\n",
              "      <td>3</td>\n",
              "    </tr>\n",
              "    <tr>\n",
              "      <th>2</th>\n",
              "      <td>1712642400</td>\n",
              "      <td>282.59</td>\n",
              "      <td>281.14</td>\n",
              "      <td>282.59</td>\n",
              "      <td>282.59</td>\n",
              "      <td>1023</td>\n",
              "      <td>1023</td>\n",
              "      <td>1012</td>\n",
              "      <td>81</td>\n",
              "      <td>0</td>\n",
              "      <td>{'id': 804, 'main': 'Clouds', 'description': '...</td>\n",
              "      <td>100</td>\n",
              "      <td>2.76</td>\n",
              "      <td>201</td>\n",
              "      <td>8.55</td>\n",
              "      <td>10000</td>\n",
              "      <td>0</td>\n",
              "      <td>n</td>\n",
              "      <td>2024-04-09 06:00:00</td>\n",
              "      <td>NaN</td>\n",
              "      <td>2024-04-09</td>\n",
              "      <td>6</td>\n",
              "    </tr>\n",
              "    <tr>\n",
              "      <th>3</th>\n",
              "      <td>1712653200</td>\n",
              "      <td>282.71</td>\n",
              "      <td>281.16</td>\n",
              "      <td>282.71</td>\n",
              "      <td>282.71</td>\n",
              "      <td>1022</td>\n",
              "      <td>1022</td>\n",
              "      <td>1012</td>\n",
              "      <td>85</td>\n",
              "      <td>0</td>\n",
              "      <td>{'id': 804, 'main': 'Clouds', 'description': '...</td>\n",
              "      <td>100</td>\n",
              "      <td>2.96</td>\n",
              "      <td>208</td>\n",
              "      <td>8.8</td>\n",
              "      <td>10000</td>\n",
              "      <td>0</td>\n",
              "      <td>n</td>\n",
              "      <td>2024-04-09 09:00:00</td>\n",
              "      <td>NaN</td>\n",
              "      <td>2024-04-09</td>\n",
              "      <td>9</td>\n",
              "    </tr>\n",
              "    <tr>\n",
              "      <th>4</th>\n",
              "      <td>1712664000</td>\n",
              "      <td>282.28</td>\n",
              "      <td>281.01</td>\n",
              "      <td>282.28</td>\n",
              "      <td>282.28</td>\n",
              "      <td>1023</td>\n",
              "      <td>1023</td>\n",
              "      <td>1012</td>\n",
              "      <td>94</td>\n",
              "      <td>0</td>\n",
              "      <td>{'id': 500, 'main': 'Rain', 'description': 'li...</td>\n",
              "      <td>100</td>\n",
              "      <td>2.41</td>\n",
              "      <td>208</td>\n",
              "      <td>7.92</td>\n",
              "      <td>10000</td>\n",
              "      <td>0.21</td>\n",
              "      <td>n</td>\n",
              "      <td>2024-04-09 12:00:00</td>\n",
              "      <td>0.23</td>\n",
              "      <td>2024-04-09</td>\n",
              "      <td>12</td>\n",
              "    </tr>\n",
              "  </tbody>\n",
              "</table>\n",
              "</div>\n",
              "    <div class=\"colab-df-buttons\">\n",
              "\n",
              "  <div class=\"colab-df-container\">\n",
              "    <button class=\"colab-df-convert\" onclick=\"convertToInteractive('df-2938b115-7d8b-480a-8928-8ac0cdeec22c')\"\n",
              "            title=\"Convert this dataframe to an interactive table.\"\n",
              "            style=\"display:none;\">\n",
              "\n",
              "  <svg xmlns=\"http://www.w3.org/2000/svg\" height=\"24px\" viewBox=\"0 -960 960 960\">\n",
              "    <path d=\"M120-120v-720h720v720H120Zm60-500h600v-160H180v160Zm220 220h160v-160H400v160Zm0 220h160v-160H400v160ZM180-400h160v-160H180v160Zm440 0h160v-160H620v160ZM180-180h160v-160H180v160Zm440 0h160v-160H620v160Z\"/>\n",
              "  </svg>\n",
              "    </button>\n",
              "\n",
              "  <style>\n",
              "    .colab-df-container {\n",
              "      display:flex;\n",
              "      gap: 12px;\n",
              "    }\n",
              "\n",
              "    .colab-df-convert {\n",
              "      background-color: #E8F0FE;\n",
              "      border: none;\n",
              "      border-radius: 50%;\n",
              "      cursor: pointer;\n",
              "      display: none;\n",
              "      fill: #1967D2;\n",
              "      height: 32px;\n",
              "      padding: 0 0 0 0;\n",
              "      width: 32px;\n",
              "    }\n",
              "\n",
              "    .colab-df-convert:hover {\n",
              "      background-color: #E2EBFA;\n",
              "      box-shadow: 0px 1px 2px rgba(60, 64, 67, 0.3), 0px 1px 3px 1px rgba(60, 64, 67, 0.15);\n",
              "      fill: #174EA6;\n",
              "    }\n",
              "\n",
              "    .colab-df-buttons div {\n",
              "      margin-bottom: 4px;\n",
              "    }\n",
              "\n",
              "    [theme=dark] .colab-df-convert {\n",
              "      background-color: #3B4455;\n",
              "      fill: #D2E3FC;\n",
              "    }\n",
              "\n",
              "    [theme=dark] .colab-df-convert:hover {\n",
              "      background-color: #434B5C;\n",
              "      box-shadow: 0px 1px 3px 1px rgba(0, 0, 0, 0.15);\n",
              "      filter: drop-shadow(0px 1px 2px rgba(0, 0, 0, 0.3));\n",
              "      fill: #FFFFFF;\n",
              "    }\n",
              "  </style>\n",
              "\n",
              "    <script>\n",
              "      const buttonEl =\n",
              "        document.querySelector('#df-2938b115-7d8b-480a-8928-8ac0cdeec22c button.colab-df-convert');\n",
              "      buttonEl.style.display =\n",
              "        google.colab.kernel.accessAllowed ? 'block' : 'none';\n",
              "\n",
              "      async function convertToInteractive(key) {\n",
              "        const element = document.querySelector('#df-2938b115-7d8b-480a-8928-8ac0cdeec22c');\n",
              "        const dataTable =\n",
              "          await google.colab.kernel.invokeFunction('convertToInteractive',\n",
              "                                                    [key], {});\n",
              "        if (!dataTable) return;\n",
              "\n",
              "        const docLinkHtml = 'Like what you see? Visit the ' +\n",
              "          '<a target=\"_blank\" href=https://colab.research.google.com/notebooks/data_table.ipynb>data table notebook</a>'\n",
              "          + ' to learn more about interactive tables.';\n",
              "        element.innerHTML = '';\n",
              "        dataTable['output_type'] = 'display_data';\n",
              "        await google.colab.output.renderOutput(dataTable, element);\n",
              "        const docLink = document.createElement('div');\n",
              "        docLink.innerHTML = docLinkHtml;\n",
              "        element.appendChild(docLink);\n",
              "      }\n",
              "    </script>\n",
              "  </div>\n",
              "\n",
              "\n",
              "<div id=\"df-1de9b535-1ec8-4926-9952-62045c49dceb\">\n",
              "  <button class=\"colab-df-quickchart\" onclick=\"quickchart('df-1de9b535-1ec8-4926-9952-62045c49dceb')\"\n",
              "            title=\"Suggest charts\"\n",
              "            style=\"display:none;\">\n",
              "\n",
              "<svg xmlns=\"http://www.w3.org/2000/svg\" height=\"24px\"viewBox=\"0 0 24 24\"\n",
              "     width=\"24px\">\n",
              "    <g>\n",
              "        <path d=\"M19 3H5c-1.1 0-2 .9-2 2v14c0 1.1.9 2 2 2h14c1.1 0 2-.9 2-2V5c0-1.1-.9-2-2-2zM9 17H7v-7h2v7zm4 0h-2V7h2v10zm4 0h-2v-4h2v4z\"/>\n",
              "    </g>\n",
              "</svg>\n",
              "  </button>\n",
              "\n",
              "<style>\n",
              "  .colab-df-quickchart {\n",
              "      --bg-color: #E8F0FE;\n",
              "      --fill-color: #1967D2;\n",
              "      --hover-bg-color: #E2EBFA;\n",
              "      --hover-fill-color: #174EA6;\n",
              "      --disabled-fill-color: #AAA;\n",
              "      --disabled-bg-color: #DDD;\n",
              "  }\n",
              "\n",
              "  [theme=dark] .colab-df-quickchart {\n",
              "      --bg-color: #3B4455;\n",
              "      --fill-color: #D2E3FC;\n",
              "      --hover-bg-color: #434B5C;\n",
              "      --hover-fill-color: #FFFFFF;\n",
              "      --disabled-bg-color: #3B4455;\n",
              "      --disabled-fill-color: #666;\n",
              "  }\n",
              "\n",
              "  .colab-df-quickchart {\n",
              "    background-color: var(--bg-color);\n",
              "    border: none;\n",
              "    border-radius: 50%;\n",
              "    cursor: pointer;\n",
              "    display: none;\n",
              "    fill: var(--fill-color);\n",
              "    height: 32px;\n",
              "    padding: 0;\n",
              "    width: 32px;\n",
              "  }\n",
              "\n",
              "  .colab-df-quickchart:hover {\n",
              "    background-color: var(--hover-bg-color);\n",
              "    box-shadow: 0 1px 2px rgba(60, 64, 67, 0.3), 0 1px 3px 1px rgba(60, 64, 67, 0.15);\n",
              "    fill: var(--button-hover-fill-color);\n",
              "  }\n",
              "\n",
              "  .colab-df-quickchart-complete:disabled,\n",
              "  .colab-df-quickchart-complete:disabled:hover {\n",
              "    background-color: var(--disabled-bg-color);\n",
              "    fill: var(--disabled-fill-color);\n",
              "    box-shadow: none;\n",
              "  }\n",
              "\n",
              "  .colab-df-spinner {\n",
              "    border: 2px solid var(--fill-color);\n",
              "    border-color: transparent;\n",
              "    border-bottom-color: var(--fill-color);\n",
              "    animation:\n",
              "      spin 1s steps(1) infinite;\n",
              "  }\n",
              "\n",
              "  @keyframes spin {\n",
              "    0% {\n",
              "      border-color: transparent;\n",
              "      border-bottom-color: var(--fill-color);\n",
              "      border-left-color: var(--fill-color);\n",
              "    }\n",
              "    20% {\n",
              "      border-color: transparent;\n",
              "      border-left-color: var(--fill-color);\n",
              "      border-top-color: var(--fill-color);\n",
              "    }\n",
              "    30% {\n",
              "      border-color: transparent;\n",
              "      border-left-color: var(--fill-color);\n",
              "      border-top-color: var(--fill-color);\n",
              "      border-right-color: var(--fill-color);\n",
              "    }\n",
              "    40% {\n",
              "      border-color: transparent;\n",
              "      border-right-color: var(--fill-color);\n",
              "      border-top-color: var(--fill-color);\n",
              "    }\n",
              "    60% {\n",
              "      border-color: transparent;\n",
              "      border-right-color: var(--fill-color);\n",
              "    }\n",
              "    80% {\n",
              "      border-color: transparent;\n",
              "      border-right-color: var(--fill-color);\n",
              "      border-bottom-color: var(--fill-color);\n",
              "    }\n",
              "    90% {\n",
              "      border-color: transparent;\n",
              "      border-bottom-color: var(--fill-color);\n",
              "    }\n",
              "  }\n",
              "</style>\n",
              "\n",
              "  <script>\n",
              "    async function quickchart(key) {\n",
              "      const quickchartButtonEl =\n",
              "        document.querySelector('#' + key + ' button');\n",
              "      quickchartButtonEl.disabled = true;  // To prevent multiple clicks.\n",
              "      quickchartButtonEl.classList.add('colab-df-spinner');\n",
              "      try {\n",
              "        const charts = await google.colab.kernel.invokeFunction(\n",
              "            'suggestCharts', [key], {});\n",
              "      } catch (error) {\n",
              "        console.error('Error during call to suggestCharts:', error);\n",
              "      }\n",
              "      quickchartButtonEl.classList.remove('colab-df-spinner');\n",
              "      quickchartButtonEl.classList.add('colab-df-quickchart-complete');\n",
              "    }\n",
              "    (() => {\n",
              "      let quickchartButtonEl =\n",
              "        document.querySelector('#df-1de9b535-1ec8-4926-9952-62045c49dceb button');\n",
              "      quickchartButtonEl.style.display =\n",
              "        google.colab.kernel.accessAllowed ? 'block' : 'none';\n",
              "    })();\n",
              "  </script>\n",
              "</div>\n",
              "    </div>\n",
              "  </div>\n"
            ],
            "application/vnd.google.colaboratory.intrinsic+json": {
              "type": "dataframe",
              "variable_name": "forecasts"
            }
          },
          "metadata": {},
          "execution_count": 8
        }
      ]
    },
    {
      "cell_type": "code",
      "source": [
        "next_class = datetime.date(2024, 4, 10)\n",
        "plot_rain(next_class)"
      ],
      "metadata": {
        "colab": {
          "base_uri": "https://localhost:8080/",
          "height": 472
        },
        "id": "pM5lP-SDCo1e",
        "outputId": "474c7b43-b4fd-4c29-e643-2bac0d6b2e04"
      },
      "execution_count": 9,
      "outputs": [
        {
          "output_type": "display_data",
          "data": {
            "text/plain": [
              "<Figure size 640x480 with 1 Axes>"
            ],
            "image/png": "[encoded data removed]"
          },
          "metadata": {}
        }
      ]
    },
    {
      "cell_type": "markdown",
      "source": [
        "It's not raining on the next day that we meet which is the 10th but it is raining on the 9th"
      ],
      "metadata": {
        "id": "nPuzbXmHyDFc"
      }
    },
    {
      "cell_type": "code",
      "source": [
        "next_class = datetime.date(2024, 4, 9)\n",
        "plot_rain(next_class)"
      ],
      "metadata": {
        "id": "DTGyYkOncBCS",
        "colab": {
          "base_uri": "https://localhost:8080/",
          "height": 472
        },
        "outputId": "02aab55d-d576-4b54-f4a1-8870b093cdf6"
      },
      "execution_count": 10,
      "outputs": [
        {
          "output_type": "display_data",
          "data": {
            "text/plain": [
              "<Figure size 640x480 with 1 Axes>"
            ],
            "image/png": "[encoded data removed]"
          },
          "metadata": {}
        }
      ]
    },
    {
      "cell_type": "code",
      "source": [],
      "metadata": {
        "id": "68lZTQADyBYt"
      },
      "execution_count": 10,
      "outputs": []
    }
  ]
}